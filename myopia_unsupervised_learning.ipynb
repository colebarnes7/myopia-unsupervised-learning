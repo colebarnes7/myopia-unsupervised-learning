{
 "cells": [
  {
   "cell_type": "code",
   "execution_count": null,
   "id": "28c3d28f",
   "metadata": {},
   "outputs": [],
   "source": [
    "# Import dependencies\n",
    "import pandas as pd\n",
    "import matplotlib.pyplot as plt\n",
    "from sklearn.preprocessing import StandardScaler\n",
    "from sklearn.decomposition import PCA\n",
    "from sklearn.cluster import KMeans\n",
    "from sklearn.manifold import TSNE"
   ]
  },
  {
   "cell_type": "code",
   "execution_count": null,
   "id": "2c89d79f",
   "metadata": {},
   "outputs": [],
   "source": [
    "# Read in CSV file\n",
    "df = pd.read_csv(\"Resources/myopia.csv\")\n",
    "df.head()"
   ]
  },
  {
   "cell_type": "code",
   "execution_count": null,
   "id": "86957c76",
   "metadata": {
    "scrolled": true
   },
   "outputs": [],
   "source": [
    "# Drop the MYOPIC column to allow for unsupervised learning\n",
    "df = df.drop([\"MYOPIC\"], axis=1)\n",
    "df.shape"
   ]
  },
  {
   "cell_type": "code",
   "execution_count": null,
   "id": "2c5ec0e5",
   "metadata": {},
   "outputs": [],
   "source": [
    "# Scaling the data so each column affects data equally\n",
    "scaler = StandardScaler()\n",
    "scaled_features = scaler.fit_transform(df)"
   ]
  },
  {
   "cell_type": "code",
   "execution_count": null,
   "id": "089290a3",
   "metadata": {},
   "outputs": [],
   "source": [
    "# Using PCA to perform dimensionality reduction\n",
    "pca = PCA(n_components = 0.90)\n",
    "myopia_pca = pca.fit_transform(scaled_features)\n",
    "myopia_pca.shape"
   ]
  },
  {
   "cell_type": "code",
   "execution_count": null,
   "id": "b4eaa882",
   "metadata": {},
   "outputs": [],
   "source": [
    "# t-SNE to further reduce the dataset dimensions\n",
    "tsne = TSNE(learning_rate = 250)\n",
    "tsne_features = tsne.fit_transform(myopia_pca)\n",
    "tsne_features.shape"
   ]
  },
  {
   "cell_type": "code",
   "execution_count": null,
   "id": "8ee36c11",
   "metadata": {},
   "outputs": [],
   "source": [
    "# Plotting t-SNE to see if there are distinct clusters\n",
    "plt.scatter(tsne_features[:,0], tsne_features[:,1])\n",
    "plt.show()"
   ]
  },
  {
   "cell_type": "code",
   "execution_count": null,
   "id": "3f18d1bd",
   "metadata": {},
   "outputs": [],
   "source": [
    "# Cluster Analysis using K-Means\n",
    "inertia = []\n",
    "# Same as k = list(range(1, 11))\n",
    "k = [1,2,3,4,5,6,7,8,9,10]\n",
    "\n",
    "\n",
    "# Looking for the best k\n",
    "for i in k:\n",
    "    km = KMeans(n_clusters=i, random_state=0)\n",
    "    km.fit(myopia_pca)\n",
    "    inertia.append(km.inertia_)\n",
    "\n",
    "# Define a DataFrame to plot the Elbow Curve using hvPlot\n",
    "elbow_data = {\"k\": k, \"inertia\": inertia}\n",
    "df_elbow = pd.DataFrame(elbow_data)\n",
    "\n",
    "# Plotting Elbow Curve to determine best k value\n",
    "plt.plot(df_elbow['k'], df_elbow['inertia'])\n",
    "plt.xticks(range(1,11))\n",
    "plt.xlabel('Number of clusters')\n",
    "plt.ylabel('Inertia')\n",
    "plt.show()"
   ]
  },
  {
   "cell_type": "markdown",
   "id": "f3fc2fa0",
   "metadata": {},
   "source": [
    "### Analysis\n",
    "Looking at the data as a whole and the elbow curve above, the patients can be clustered into 3 different clusters since there is a distinct elbow seen of k equals 3."
   ]
  }
 ],
 "metadata": {
  "kernelspec": {
   "display_name": "Python [conda env:PythonData38] *",
   "language": "python",
   "name": "conda-env-PythonData38-py"
  },
  "language_info": {
   "codemirror_mode": {
    "name": "ipython",
    "version": 3
   },
   "file_extension": ".py",
   "mimetype": "text/x-python",
   "name": "python",
   "nbconvert_exporter": "python",
   "pygments_lexer": "ipython3",
   "version": "3.8.12"
  }
 },
 "nbformat": 4,
 "nbformat_minor": 5
}
